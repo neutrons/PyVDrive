{
 "cells": [
  {
   "cell_type": "code",
   "execution_count": 1,
   "metadata": {
    "collapsed": true
   },
   "outputs": [],
   "source": [
    "import os\n",
    "import numpy\n",
    "import sys"
   ]
  },
  {
   "cell_type": "code",
   "execution_count": 2,
   "metadata": {
    "collapsed": false
   },
   "outputs": [
    {
     "data": {
      "text/plain": [
       "'/home/wzz/Projects/PyVDrive/prototypes'"
      ]
     },
     "execution_count": 2,
     "metadata": {},
     "output_type": "execute_result"
    }
   ],
   "source": [
    "os.getcwd()"
   ]
  },
  {
   "cell_type": "code",
   "execution_count": 45,
   "metadata": {
    "collapsed": true
   },
   "outputs": [],
   "source": [
    "def scan_log_file(log_file_name, block_start_flag):\n",
    "        \"\"\"\n",
    "        Task list:\n",
    "        1. enable 'return' button\n",
    "        2. scan for summary including\n",
    "          a) number of blocks\n",
    "          b) size of each block\n",
    "          c) ... ...\n",
    "        :return:\n",
    "        \"\"\"\n",
    "        # check\n",
    "        # ...\n",
    "        # ... \n",
    "        \n",
    "        sum_dict = dict()\n",
    "\n",
    "        # set up summary parameters\n",
    "        buffer_size = 6\n",
    "        buffer_lines = list()\n",
    "\n",
    "        # open file and search block starter\n",
    "        block_key = None\n",
    "        last_block_key = None\n",
    "        block_line_list = None\n",
    "        num_lines_recorded = 0\n",
    "\n",
    "        with open(log_file_name, 'r') as log_file:\n",
    "            for line_number, line in enumerate(log_file):\n",
    "                # parse the line\n",
    "                line = line.strip()\n",
    "                \n",
    "                # fill buffer\n",
    "                buffer_lines.append(line)\n",
    "                if len(buffer_lines) > buffer_size:\n",
    "                    buffer_lines.pop(0)\n",
    "                      \n",
    "                # check the line\n",
    "                if block_key is not None:\n",
    "                    # in a recording stage\n",
    "                    num_lines_recorded += 1\n",
    "                    # check quit condition\n",
    "                    if num_lines_recorded == buffer_size:\n",
    "                        # finished recording job\n",
    "                        # record\n",
    "                        sum_dict[block_key] = buffer_lines[:]\n",
    "                        # reset block key\n",
    "                        last_block_key = block_key\n",
    "                        block_key = None\n",
    "                        num_lines_recorded = 0\n",
    "\n",
    "                elif line.startswith(block_start_flag):\n",
    "                    # not in recording stage but it is a start of a block\n",
    "                    block_key = line_number\n",
    "                    num_lines_recorded = 1\n",
    "                    if last_block_key is not None:\n",
    "                         sum_dict[last_block_key].extend(buffer_lines[:-1])\n",
    "                # END-IF\n",
    "            # END-FOR\n",
    "        # END-WITH\n",
    "        \n",
    "        # list lines\n",
    "        if block_key is None:\n",
    "            block_key = last_block_key\n",
    "            if block_key is None:\n",
    "                raise ValueError\n",
    "        if block_key in sum_dict:\n",
    "            sum_dict[block_key].extend(buffer_lines[:])\n",
    "        else:\n",
    "            sum_dict[block_key] = buffer_lines[:]\n",
    "\n",
    "        # prepare the summary\n",
    "        \"\"\"\n",
    "        sum_str = ''\n",
    "        # sum_str += 'comments: \\n'\n",
    "        sum_str += '    %s\\n\\n' % self._comments\n",
    "        for block_index, block_start_line_number in enumerate(self._blockLineDict.keys()):\n",
    "            sum_str += 'block %d\\n' % block_index\n",
    "            for index, line in enumerate(self._blockLineDict[block_start_line_number]):\n",
    "                sum_str += '%-10d: %s\\n' % (index+block_start_line_number,\n",
    "                                            line.strip())\n",
    "            sum_str += '\\n'\n",
    "            # END-FOR\n",
    "\n",
    "        # set to summary view\n",
    "        self.ui.plainTextEdit_summaryView.setPlainText(sum_str)\n",
    "        \"\"\"\n",
    "\n",
    "        return sum_dict"
   ]
  },
  {
   "cell_type": "code",
   "execution_count": 56,
   "metadata": {
    "collapsed": false
   },
   "outputs": [
    {
     "name": "stdout",
     "output_type": "stream",
     "text": [
      "1312050065 <type 'int'>\n",
      "File size = 1251 MB\n",
      "Block 2\n",
      "\tData Acquisition\t\t\t\t\t\tTime:\t19.504395\ts\t4/27/2016 18:20:34 PM\n",
      "\tTime\tX Matrix Displacement\tX Matrix Force\tX Matrix Strain\tX Matrix Stress\n",
      "\ts\tmm\tN\tmm/mm\tN/mm�\n",
      "\t11.501465\t6.8169622\t49.618851\t-0.00041163471\t6.5720334\n",
      "\t11.503418\t6.8167315\t49.263912\t-0.00041204781\t6.5250216\n",
      "\t11.505371\t6.8170824\t49.543495\t-0.00041292526\t6.5620522\n",
      "\t308.3999\t6.8297586\t250.6969\t-0.00032636127\t33.204887\n",
      "\t308.40186\t6.829587\t250.55898\t-0.00032632414\t33.186619\n",
      "\t308.40381\t6.8296928\t250.60588\t-0.00032717222\t33.192833\n",
      "\t308.40576\t6.8294964\t250.4288\t-0.00032722391\t33.169376\n",
      "\t\n",
      "Block 152022\n",
      "\tData Acquisition\t\t\t\t\t\tTime:\t12.76123\ts\t4/27/2016 18:30:25 PM\n",
      "\tTime\tX Matrix Displacement\tX Matrix Force\tX Matrix Strain\tX Matrix Stress\n",
      "\ts\tmm\tN\tmm/mm\tN/mm�\n",
      "\t4.7587891\t6.8301091\t249.81729\t-0.00032187041\t33.088383\n",
      "\t4.7602539\t6.8300123\t249.79567\t-0.00032172498\t33.085518\n",
      "\t4.7626953\t6.8296976\t250.27213\t-0.00032125309\t33.148624\n",
      "\t27.12207\t6.829761\t250.22838\t-0.00032231255\t33.14283\n",
      "\t27.124023\t6.8299837\t251.08641\t-0.00032326111\t33.256477\n",
      "\t27.125977\t6.8298073\t251.1608\t-0.00032399493\t33.266331\n",
      "\t27.12793\t6.829608\t250.20599\t-0.00032386516\t33.139866\n",
      "\t\n",
      "Block 163480\n",
      "\tData Acquisition\t\t\t\t\t\tTime:\t11.303223\ts\t4/27/2016 18:32:15 PM\n",
      "\tTime\tX Matrix Displacement\tX Matrix Force\tX Matrix Strain\tX Matrix Stress\n",
      "\ts\tmm\tN\tmm/mm\tN/mm�\n",
      "\t3.3007813\t6.8209004\t50.06171\t-0.00046134932\t6.6306896\n",
      "\t3.3027344\t6.8205185\t50.487846\t-0.0004610568\t6.6871319\n",
      "\t3.3046875\t6.8206639\t50.57328\t-0.00046072432\t6.6984477\n",
      "\t46265.621\t6.8272157\t50.483166\t-0.00033886946\t6.686512\n",
      "\t46265.625\t6.8271389\t50.305889\t-0.00033960608\t6.6630316\n",
      "\t46265.625\t6.8273649\t50.79224\t-0.00033999304\t6.7274485\n",
      "\t46265.625\t6.8274107\t50.908676\t-0.00033930852\t6.7428708\n",
      "\t46265.629\t6.8273745\t50.063232\t-0.00033935072\t6.6308918\n",
      "\t46265.633\t6.8273005\t49.192623\t-0.00033971239\t6.5155787\n"
     ]
    }
   ],
   "source": [
    "# %%timeit\n",
    "\n",
    "log_file_name = '/SNS/VULCAN/IPTS-14094/shared/IPTS_14094_sample1_again3/specimen.dat'      #    697117 100 loops, best of 3: 4.92 ms per loop\n",
    "#log_file_name = '/SNS/VULCAN/IPTS-14094/shared/IPTS_14094_sample9_continue/specimen9_5.dat' #    605232 May  1 11:53  80ms/4.4ms\n",
    "#log_file_name = '/SNS/VULCAN/IPTS-14094/shared/IPTS_14094_sample9_continue/sample8_1.dat'   #  26467874 May  1 11:40\n",
    "#log_file_name = '/SNS/VULCAN/IPTS-14094/shared/IPTS_14094_sample1_4/specimen.dat'           # 265849517 May  1 09:05\n",
    "log_file_name = '/SNS/VULCAN/IPTS-14094/shared/IPTS_14094_sample3/specimen.dat'              # 1.2GB... perfect example\n",
    "file_size = os.path.getsize(log_file_name)\n",
    "file_size_mb = file_size/1024/1024\n",
    "print file_size, type(file_size)\n",
    "print 'File size = %d MB' % file_size_mb\n",
    "block_start_flag = 'Data Acquisition'\n",
    "\n",
    "sum_dict = scan_log_file(log_file_name, block_start_flag)\n",
    "for block_key in sorted(sum_dict.keys()):\n",
    "    print 'Block %d' % block_key\n",
    "    for line in sum_dict[block_key]:\n",
    "        print '\\t', line"
   ]
  },
  {
   "cell_type": "markdown",
   "metadata": {},
   "source": [
    "* /SNS/VULCAN/IPTS-14094/shared/IPTS_14094_sample9_continue/sample8_1.dat:\n",
    "\n",
    "  The slowest run took 5.77 times longer than the fastest. This could mean that an intermediate result is being cached.\n",
    "  1 loop, best of 3: 137 ms per loop\n",
    "  \n",
    "  \n",
    "* /SNS/VULCAN/IPTS-14094/shared/IPTS_14094_sample1_4/specimen.dat\n",
    "\n",
    "  1 loop, best of 3: 1.42 s per loop\n"
   ]
  },
  {
   "cell_type": "code",
   "execution_count": 18,
   "metadata": {
    "collapsed": false
   },
   "outputs": [
    {
     "name": "stdout",
     "output_type": "stream",
     "text": [
      "/SNS/VULCAN/IPTS-14094/shared/IPTS_14094_sample1_4/specimen.dat\n",
      "265849517 <type 'int'> 253\n"
     ]
    }
   ],
   "source": [
    "log_file_name = '/SNS/VULCAN/IPTS-14094/shared/IPTS_14094_sample1_4/specimen.dat'    \n",
    "print log_file_name\n",
    "size = os.path.getsize(log_file_name)\n",
    "print size, type(size), size/1024/1024"
   ]
  }
 ],
 "metadata": {
  "kernelspec": {
   "display_name": "Python [Root]",
   "language": "python",
   "name": "Python [Root]"
  },
  "language_info": {
   "codemirror_mode": {
    "name": "ipython",
    "version": 2
   },
   "file_extension": ".py",
   "mimetype": "text/x-python",
   "name": "python",
   "nbconvert_exporter": "python",
   "pygments_lexer": "ipython2",
   "version": "2.7.12"
  }
 },
 "nbformat": 4,
 "nbformat_minor": 0
}
