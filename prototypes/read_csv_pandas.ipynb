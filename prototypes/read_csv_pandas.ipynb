{
 "cells": [
  {
   "cell_type": "code",
   "execution_count": 28,
   "metadata": {
    "collapsed": true
   },
   "outputs": [],
   "source": [
    "import os\n",
    "import pandas as pd\n",
    "import numpy as np\n",
    "import matplotlib\n",
    "%matplotlib inline"
   ]
  },
  {
   "cell_type": "code",
   "execution_count": 2,
   "metadata": {
    "collapsed": true
   },
   "outputs": [],
   "source": [
    "log_file_name = '/SNS/VULCAN/IPTS-14094/shared/IPTS_14094_sample3/specimen.dat' "
   ]
  },
  {
   "cell_type": "markdown",
   "metadata": {},
   "source": [
    "Read CSV with header"
   ]
  },
  {
   "cell_type": "code",
   "execution_count": 39,
   "metadata": {
    "collapsed": true
   },
   "outputs": [],
   "source": [
    "skiprows = [0, 1, 2, 4]\n",
    "n_rows = 100\n",
    "data_block0 = pd.read_csv(log_file_name, sep='\\t', header=0, skiprows=skiprows,engine='python', nrows=n_rows)"
   ]
  },
  {
   "cell_type": "code",
   "execution_count": 40,
   "metadata": {
    "collapsed": false
   },
   "outputs": [
    {
     "data": {
      "text/html": [
       "<div>\n",
       "<table border=\"1\" class=\"dataframe\">\n",
       "  <thead>\n",
       "    <tr style=\"text-align: right;\">\n",
       "      <th></th>\n",
       "      <th>Time</th>\n",
       "      <th>X Matrix Displacement</th>\n",
       "      <th>X Matrix Force</th>\n",
       "      <th>X Matrix Strain</th>\n",
       "      <th>X Matrix Stress</th>\n",
       "    </tr>\n",
       "  </thead>\n",
       "  <tbody>\n",
       "    <tr>\n",
       "      <th>0</th>\n",
       "      <td>11.501465</td>\n",
       "      <td>6.816962</td>\n",
       "      <td>49.618851</td>\n",
       "      <td>-0.000412</td>\n",
       "      <td>6.572033</td>\n",
       "    </tr>\n",
       "    <tr>\n",
       "      <th>1</th>\n",
       "      <td>11.503418</td>\n",
       "      <td>6.816732</td>\n",
       "      <td>49.263912</td>\n",
       "      <td>-0.000412</td>\n",
       "      <td>6.525022</td>\n",
       "    </tr>\n",
       "    <tr>\n",
       "      <th>2</th>\n",
       "      <td>11.505371</td>\n",
       "      <td>6.817082</td>\n",
       "      <td>49.543495</td>\n",
       "      <td>-0.000413</td>\n",
       "      <td>6.562052</td>\n",
       "    </tr>\n",
       "    <tr>\n",
       "      <th>3</th>\n",
       "      <td>11.507324</td>\n",
       "      <td>6.817495</td>\n",
       "      <td>49.986679</td>\n",
       "      <td>-0.000414</td>\n",
       "      <td>6.620752</td>\n",
       "    </tr>\n",
       "    <tr>\n",
       "      <th>4</th>\n",
       "      <td>11.509277</td>\n",
       "      <td>6.817250</td>\n",
       "      <td>50.583622</td>\n",
       "      <td>-0.000413</td>\n",
       "      <td>6.699818</td>\n",
       "    </tr>\n",
       "  </tbody>\n",
       "</table>\n",
       "</div>"
      ],
      "text/plain": [
       "        Time  X Matrix Displacement  X Matrix Force  X Matrix Strain  \\\n",
       "0  11.501465               6.816962       49.618851        -0.000412   \n",
       "1  11.503418               6.816732       49.263912        -0.000412   \n",
       "2  11.505371               6.817082       49.543495        -0.000413   \n",
       "3  11.507324               6.817495       49.986679        -0.000414   \n",
       "4  11.509277               6.817250       50.583622        -0.000413   \n",
       "\n",
       "   X Matrix Stress  \n",
       "0         6.572033  \n",
       "1         6.525022  \n",
       "2         6.562052  \n",
       "3         6.620752  \n",
       "4         6.699818  "
      ]
     },
     "execution_count": 40,
     "metadata": {},
     "output_type": "execute_result"
    }
   ],
   "source": [
    "data_block0.head(5)"
   ]
  },
  {
   "cell_type": "markdown",
   "metadata": {},
   "source": [
    "Read CSV with given header\n",
    "1. skiprows=152022+3, 10 loops, best of 3: 29.2 ms per loop\n",
    "2. skiprows=range(152022), skiprows=skiprows.extend([152022, 152034]): 10 loops, best of 3: 44.1 ms per loop\n",
    "3. skiprows=152022+3, given names:  28.2 ms per loop\n"
   ]
  },
  {
   "cell_type": "code",
   "execution_count": 20,
   "metadata": {
    "collapsed": false
   },
   "outputs": [
    {
     "name": "stdout",
     "output_type": "stream",
     "text": [
      "10 loops, best of 3: 44.1 ms per loop\n"
     ]
    }
   ],
   "source": [
    "%%timeit\n",
    "skiprows = range(152022)\n",
    "skiprows.extend([152022, 152034])\n",
    "data_block1 = pd.read_csv(log_file_name, sep='\\t', skiprows=skiprows, header=0, nrows=n_rows)"
   ]
  },
  {
   "cell_type": "code",
   "execution_count": 19,
   "metadata": {
    "collapsed": false
   },
   "outputs": [
    {
     "data": {
      "text/html": [
       "<div>\n",
       "<table border=\"1\" class=\"dataframe\">\n",
       "  <thead>\n",
       "    <tr style=\"text-align: right;\">\n",
       "      <th></th>\n",
       "      <th>Time</th>\n",
       "      <th>X Matrix Displacement</th>\n",
       "      <th>X Matrix Force</th>\n",
       "      <th>X Matrix Strain</th>\n",
       "      <th>X Matrix Stress</th>\n",
       "    </tr>\n",
       "  </thead>\n",
       "  <tbody>\n",
       "    <tr>\n",
       "      <th>0</th>\n",
       "      <td>s</td>\n",
       "      <td>mm</td>\n",
       "      <td>N</td>\n",
       "      <td>mm/mm</td>\n",
       "      <td>N/mm�</td>\n",
       "    </tr>\n",
       "    <tr>\n",
       "      <th>1</th>\n",
       "      <td>4.7587891</td>\n",
       "      <td>6.8301091</td>\n",
       "      <td>249.81729</td>\n",
       "      <td>-0.00032187041</td>\n",
       "      <td>33.088383</td>\n",
       "    </tr>\n",
       "    <tr>\n",
       "      <th>2</th>\n",
       "      <td>4.7602539</td>\n",
       "      <td>6.8300123</td>\n",
       "      <td>249.79567</td>\n",
       "      <td>-0.00032172498</td>\n",
       "      <td>33.085518</td>\n",
       "    </tr>\n",
       "    <tr>\n",
       "      <th>3</th>\n",
       "      <td>4.7626953</td>\n",
       "      <td>6.8296976</td>\n",
       "      <td>250.27213</td>\n",
       "      <td>-0.00032125309</td>\n",
       "      <td>33.148624</td>\n",
       "    </tr>\n",
       "    <tr>\n",
       "      <th>4</th>\n",
       "      <td>4.7646484</td>\n",
       "      <td>6.8293953</td>\n",
       "      <td>250.36711</td>\n",
       "      <td>-0.00032121647</td>\n",
       "      <td>33.161205</td>\n",
       "    </tr>\n",
       "    <tr>\n",
       "      <th>5</th>\n",
       "      <td>4.7666016</td>\n",
       "      <td>6.8297443</td>\n",
       "      <td>250.37209</td>\n",
       "      <td>-0.00032133228</td>\n",
       "      <td>33.161865</td>\n",
       "    </tr>\n",
       "    <tr>\n",
       "      <th>6</th>\n",
       "      <td>4.7685547</td>\n",
       "      <td>6.8300924</td>\n",
       "      <td>250.90874</td>\n",
       "      <td>-0.00032145242</td>\n",
       "      <td>33.232941</td>\n",
       "    </tr>\n",
       "    <tr>\n",
       "      <th>7</th>\n",
       "      <td>4.7705078</td>\n",
       "      <td>6.8300896</td>\n",
       "      <td>251.39665</td>\n",
       "      <td>-0.00032124063</td>\n",
       "      <td>33.297569</td>\n",
       "    </tr>\n",
       "    <tr>\n",
       "      <th>8</th>\n",
       "      <td>4.7724609</td>\n",
       "      <td>6.8299999</td>\n",
       "      <td>251.68628</td>\n",
       "      <td>-0.00032120041</td>\n",
       "      <td>33.335926</td>\n",
       "    </tr>\n",
       "    <tr>\n",
       "      <th>9</th>\n",
       "      <td>4.7744141</td>\n",
       "      <td>6.8298421</td>\n",
       "      <td>250.64478</td>\n",
       "      <td>-0.00032200338</td>\n",
       "      <td>33.197983</td>\n",
       "    </tr>\n",
       "  </tbody>\n",
       "</table>\n",
       "</div>"
      ],
      "text/plain": [
       "        Time X Matrix Displacement X Matrix Force X Matrix Strain  \\\n",
       "0          s                    mm              N           mm/mm   \n",
       "1  4.7587891             6.8301091      249.81729  -0.00032187041   \n",
       "2  4.7602539             6.8300123      249.79567  -0.00032172498   \n",
       "3  4.7626953             6.8296976      250.27213  -0.00032125309   \n",
       "4  4.7646484             6.8293953      250.36711  -0.00032121647   \n",
       "5  4.7666016             6.8297443      250.37209  -0.00032133228   \n",
       "6  4.7685547             6.8300924      250.90874  -0.00032145242   \n",
       "7  4.7705078             6.8300896      251.39665  -0.00032124063   \n",
       "8  4.7724609             6.8299999      251.68628  -0.00032120041   \n",
       "9  4.7744141             6.8298421      250.64478  -0.00032200338   \n",
       "\n",
       "  X Matrix Stress  \n",
       "0           N/mm�  \n",
       "1       33.088383  \n",
       "2       33.085518  \n",
       "3       33.148624  \n",
       "4       33.161205  \n",
       "5       33.161865  \n",
       "6       33.232941  \n",
       "7       33.297569  \n",
       "8       33.335926  \n",
       "9       33.197983  "
      ]
     },
     "execution_count": 19,
     "metadata": {},
     "output_type": "execute_result"
    }
   ],
   "source": [
    "data_block1.head(10)"
   ]
  },
  {
   "cell_type": "code",
   "execution_count": 27,
   "metadata": {
    "collapsed": false
   },
   "outputs": [
    {
     "name": "stdout",
     "output_type": "stream",
     "text": [
      "10 loops, best of 3: 28.2 ms per loop\n"
     ]
    }
   ],
   "source": [
    "%%timeit\n",
    "given_header = ['Time', 'X Matrix', 'X Force', 'X Strain', 'X Stress']\n",
    "data_block1a = pd.read_csv(log_file_name, sep='\\t', skiprows=152022+3, names=given_header, nrows=n_rows)"
   ]
  },
  {
   "cell_type": "code",
   "execution_count": 25,
   "metadata": {
    "collapsed": false
   },
   "outputs": [
    {
     "data": {
      "text/html": [
       "<div>\n",
       "<table border=\"1\" class=\"dataframe\">\n",
       "  <thead>\n",
       "    <tr style=\"text-align: right;\">\n",
       "      <th></th>\n",
       "      <th>Time</th>\n",
       "      <th>X Matrix</th>\n",
       "      <th>X Force</th>\n",
       "      <th>X Strain</th>\n",
       "      <th>X Stress</th>\n",
       "    </tr>\n",
       "  </thead>\n",
       "  <tbody>\n",
       "    <tr>\n",
       "      <th>0</th>\n",
       "      <td>4.758789</td>\n",
       "      <td>6.830109</td>\n",
       "      <td>249.81729</td>\n",
       "      <td>-0.000322</td>\n",
       "      <td>33.088383</td>\n",
       "    </tr>\n",
       "    <tr>\n",
       "      <th>1</th>\n",
       "      <td>4.760254</td>\n",
       "      <td>6.830012</td>\n",
       "      <td>249.79567</td>\n",
       "      <td>-0.000322</td>\n",
       "      <td>33.085518</td>\n",
       "    </tr>\n",
       "    <tr>\n",
       "      <th>2</th>\n",
       "      <td>4.762695</td>\n",
       "      <td>6.829698</td>\n",
       "      <td>250.27213</td>\n",
       "      <td>-0.000321</td>\n",
       "      <td>33.148624</td>\n",
       "    </tr>\n",
       "    <tr>\n",
       "      <th>3</th>\n",
       "      <td>4.764648</td>\n",
       "      <td>6.829395</td>\n",
       "      <td>250.36711</td>\n",
       "      <td>-0.000321</td>\n",
       "      <td>33.161205</td>\n",
       "    </tr>\n",
       "    <tr>\n",
       "      <th>4</th>\n",
       "      <td>4.766602</td>\n",
       "      <td>6.829744</td>\n",
       "      <td>250.37209</td>\n",
       "      <td>-0.000321</td>\n",
       "      <td>33.161865</td>\n",
       "    </tr>\n",
       "    <tr>\n",
       "      <th>5</th>\n",
       "      <td>4.768555</td>\n",
       "      <td>6.830092</td>\n",
       "      <td>250.90874</td>\n",
       "      <td>-0.000321</td>\n",
       "      <td>33.232941</td>\n",
       "    </tr>\n",
       "    <tr>\n",
       "      <th>6</th>\n",
       "      <td>4.770508</td>\n",
       "      <td>6.830090</td>\n",
       "      <td>251.39665</td>\n",
       "      <td>-0.000321</td>\n",
       "      <td>33.297569</td>\n",
       "    </tr>\n",
       "    <tr>\n",
       "      <th>7</th>\n",
       "      <td>4.772461</td>\n",
       "      <td>6.830000</td>\n",
       "      <td>251.68628</td>\n",
       "      <td>-0.000321</td>\n",
       "      <td>33.335926</td>\n",
       "    </tr>\n",
       "    <tr>\n",
       "      <th>8</th>\n",
       "      <td>4.774414</td>\n",
       "      <td>6.829842</td>\n",
       "      <td>250.64478</td>\n",
       "      <td>-0.000322</td>\n",
       "      <td>33.197983</td>\n",
       "    </tr>\n",
       "    <tr>\n",
       "      <th>9</th>\n",
       "      <td>4.776367</td>\n",
       "      <td>6.829661</td>\n",
       "      <td>249.76888</td>\n",
       "      <td>-0.000323</td>\n",
       "      <td>33.081966</td>\n",
       "    </tr>\n",
       "  </tbody>\n",
       "</table>\n",
       "</div>"
      ],
      "text/plain": [
       "       Time  X Matrix    X Force  X Strain   X Stress\n",
       "0  4.758789  6.830109  249.81729 -0.000322  33.088383\n",
       "1  4.760254  6.830012  249.79567 -0.000322  33.085518\n",
       "2  4.762695  6.829698  250.27213 -0.000321  33.148624\n",
       "3  4.764648  6.829395  250.36711 -0.000321  33.161205\n",
       "4  4.766602  6.829744  250.37209 -0.000321  33.161865\n",
       "5  4.768555  6.830092  250.90874 -0.000321  33.232941\n",
       "6  4.770508  6.830090  251.39665 -0.000321  33.297569\n",
       "7  4.772461  6.830000  251.68628 -0.000321  33.335926\n",
       "8  4.774414  6.829842  250.64478 -0.000322  33.197983\n",
       "9  4.776367  6.829661  249.76888 -0.000323  33.081966"
      ]
     },
     "execution_count": 25,
     "metadata": {},
     "output_type": "execute_result"
    }
   ],
   "source": [
    "data_block1a.head(10)"
   ]
  },
  {
   "cell_type": "code",
   "execution_count": 32,
   "metadata": {
    "collapsed": false
   },
   "outputs": [],
   "source": [
    "from matplotlib import pyplot as plt"
   ]
  },
  {
   "cell_type": "code",
   "execution_count": 51,
   "metadata": {
    "collapsed": false
   },
   "outputs": [
    {
     "data": {
      "image/png": "[encoded data removed]",
      "text/plain": [
       "<matplotlib.figure.Figure at 0x7f5f78064850>"
      ]
     },
     "metadata": {},
     "output_type": "display_data"
    }
   ],
   "source": [
    "#plt.plot(x=data_block0['Time'], y=data_block1['X Matrix Displacement'])\n",
    "plt.figure()\n",
    "plt.plot(x=np.array([1, 2, 3]), y=np.array([1, 4, 9]))\n",
    "plt.show()"
   ]
  }
 ],
 "metadata": {
  "kernelspec": {
   "display_name": "Python [Root]",
   "language": "python",
   "name": "Python [Root]"
  },
  "language_info": {
   "codemirror_mode": {
    "name": "ipython",
    "version": 2
   },
   "file_extension": ".py",
   "mimetype": "text/x-python",
   "name": "python",
   "nbconvert_exporter": "python",
   "pygments_lexer": "ipython2",
   "version": "2.7.12"
  }
 },
 "nbformat": 4,
 "nbformat_minor": 0
}
