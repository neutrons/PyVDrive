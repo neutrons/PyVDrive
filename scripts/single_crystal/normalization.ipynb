{
 "metadata": {
  "name": "",
  "signature": "sha256:e7817c948190e99e49132781a05596dd0782f2ae8ef873cdcc074925bc124c2d"
 },
 "nbformat": 3,
 "nbformat_minor": 0,
 "worksheets": [
  {
   "cells": [
    {
     "cell_type": "markdown",
     "metadata": {},
     "source": [
      "### Goal: Ideal data without background\n",
      "\n",
      "Using Ducu's equation to calculate h and k from vanadium data (his data is from diamond)\n",
      "\n",
      "```\n",
      "1. sum up vanadium spectrum along each tube\n",
      "2. optionally sum tubes belonged to each category\n",
      "3. bin the vanadium in wave length\n",
      "4. calculate the ratio between any category\n",
      "\n",
      "```"
     ]
    },
    {
     "cell_type": "markdown",
     "metadata": {},
     "source": [
      "### Calculate B_0 and B_1 from vanadium category 1 and 3 with background\n",
      "\n",
      "Assuming k = 0.737 (Ducu proved it from diamond data!), solve the equation sets\n",
      "```\n",
      "I_total^{1} = I_v^{1} + B_0 + B_1\n",
      "I_total^{3} = I_v^{3} + B_0 + k * B_1 = I_v^{1} * k + B_0 + k * B_1\n",
      "```\n",
      "Similary, h can be solved from category 2 and 4. "
     ]
    },
    {
     "cell_type": "markdown",
     "metadata": {},
     "source": [
      "# 2019.05.17\n",
      "\n",
      "Tasks (in the order)\n",
      "\n",
      "1. Implement a method to create a group workspace for each tube\n",
      "1. Implement a workflow\n",
      "  1. Load a vanadium run IPTS 22752 Run 172254\n",
      "  1. Convert and Rebin the vanadium to I_1, I_2, I_3 and I_4\n",
      "  1. "
     ]
    }
   ],
   "metadata": {}
  }
 ]
}