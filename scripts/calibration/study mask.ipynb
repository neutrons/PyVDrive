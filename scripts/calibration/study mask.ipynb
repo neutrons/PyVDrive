{
 "metadata": {
  "name": "",
  "signature": "sha256:09a9866eb322ab1cfb25cf7926aae8b2a83b5e61575f8af0525f129ac8603aee"
 },
 "nbformat": 3,
 "nbformat_minor": 0,
 "worksheets": [
  {
   "cells": [
    {
     "cell_type": "code",
     "collapsed": false,
     "input": [
      "import numpy\n",
      "import matplotlib\n",
      "import matplotlib.pyplot as plt\n",
      "%matplotlib inline"
     ],
     "language": "python",
     "metadata": {},
     "outputs": [],
     "prompt_number": 7
    },
    {
     "cell_type": "code",
     "collapsed": false,
     "input": [
      "import mantid"
     ],
     "language": "python",
     "metadata": {},
     "outputs": [],
     "prompt_number": 2
    },
    {
     "cell_type": "code",
     "collapsed": false,
     "input": [
      "%run generate_calibration_file.py"
     ],
     "language": "python",
     "metadata": {},
     "outputs": [
      {
       "output_type": "stream",
       "stream": "stdout",
       "text": [
        "Input file to load: /SNS/users/wzz/Projects/VULCAN/nED_Calibration/Diamond_NeXus/VULCAN_150178_HighResolution_Diamond.nxs\n",
        "Reference spectra=1613\n",
        "Reference spectra=4847"
       ]
      },
      {
       "output_type": "stream",
       "stream": "stdout",
       "text": [
        "\n",
        "Reference spectra=15555"
       ]
      },
      {
       "output_type": "stream",
       "stream": "stdout",
       "text": [
        "\n",
        "Calibration file is saved as /home/wzz/Projects/PyVDrive/scripts/calibration/vulcan_vz_test.h5"
       ]
      },
      {
       "output_type": "stream",
       "stream": "stdout",
       "text": [
        "\n"
       ]
      }
     ],
     "prompt_number": 20
    },
    {
     "cell_type": "code",
     "collapsed": false,
     "input": [
      "mtd.getObjectNames()"
     ],
     "language": "python",
     "metadata": {},
     "outputs": [
      {
       "metadata": {},
       "output_type": "pyout",
       "prompt_number": 21,
       "text": [
        "['cc_vulcan_diamond_east_1fit',\n",
        " 'cc_vulcan_diamond_east_2fit',\n",
        " 'cc_vulcan_diamond_high_angle_1fit',\n",
        " 'cc_vulcan_diamond_high_angle_2fit',\n",
        " 'cc_vulcan_diamond_west_1fit',\n",
        " 'cc_vulcan_diamond_west_2fit',\n",
        " 'counts_ws',\n",
        " 'mask_vulcan_diamond_east_1fit',\n",
        " 'mask_vulcan_diamond_east_2fit',\n",
        " 'mask_vulcan_diamond_high_angle_1fit',\n",
        " 'mask_vulcan_diamond_high_angle_2fit',\n",
        " 'mask_vulcan_diamond_west_1fit_copy',\n",
        " 'mask_vulcan_diamond_west_2fit_copy',\n",
        " 'offset_vulcan_diamond_east_1fit',\n",
        " 'offset_vulcan_diamond_east_1fit_FitResult',\n",
        " 'offset_vulcan_diamond_east_2fit',\n",
        " 'offset_vulcan_diamond_east_2fit_FitResult',\n",
        " 'offset_vulcan_diamond_high_angle_1fit',\n",
        " 'offset_vulcan_diamond_high_angle_1fit_FitResult',\n",
        " 'offset_vulcan_diamond_high_angle_2fit',\n",
        " 'offset_vulcan_diamond_high_angle_2fit_FitResult',\n",
        " 'offset_vulcan_diamond_west_1fit_copy',\n",
        " 'offset_vulcan_diamond_west_1fit_FitResult',\n",
        " 'offset_vulcan_diamond_west_2fit_copy',\n",
        " 'offset_vulcan_diamond_west_2fit_FitResult',\n",
        " 'vulcan_diamond',\n",
        " 'vulcan_diamond_cal',\n",
        " 'vulcan_diamond_mask',\n",
        " 'vulcan_diamond_offset',\n",
        " 'vulcan_group']"
       ]
      }
     ],
     "prompt_number": 21
    },
    {
     "cell_type": "markdown",
     "metadata": {},
     "source": [
      "Load diamond counts"
     ]
    },
    {
     "cell_type": "code",
     "collapsed": false,
     "input": [
      "counts_ws = Load(Filename='/home/wzz/Projects/PyVDrive/tests/data/VULCAN_150178_Diamond_Counts.dat')"
     ],
     "language": "python",
     "metadata": {},
     "outputs": [],
     "prompt_number": 5
    },
    {
     "cell_type": "code",
     "collapsed": false,
     "input": [
      "vec_x = counts_ws.readX(0)[:3234]\n",
      "vec_y = counts_ws.readY(0)[:3234]\n",
      "plt.plot(vec_x, vec_y)"
     ],
     "language": "python",
     "metadata": {},
     "outputs": [
      {
       "metadata": {},
       "output_type": "pyout",
       "prompt_number": 9,
       "text": [
        "[<matplotlib.lines.Line2D at 0x7fe7a85c6c10>]"
       ]
      },
      {
       "metadata": {},
       "output_type": "display_data",
       "png": "[encoded data removed]",
       "text": [
        "<matplotlib.figure.Figure at 0x7fe85a490390>"
       ]
      }
     ],
     "prompt_number": 9
    },
    {
     "cell_type": "code",
     "collapsed": false,
     "input": [
      "mask_ws = mtd['vulcan_diamond_mask']\n",
      "print (mask_ws.getNumberMasked)"
     ],
     "language": "python",
     "metadata": {},
     "outputs": [
      {
       "output_type": "stream",
       "stream": "stdout",
       "text": [
        "<bound method MaskWorkspace.getNumberMasked of Title: \n",
        "Histograms: 24900\n",
        "Masked: 1429\n",
        ">\n"
       ]
      }
     ],
     "prompt_number": 10
    },
    {
     "cell_type": "code",
     "collapsed": false,
     "input": [
      "# West bank\n",
      "counts = 0\n",
      "for iws in range(0, 3234):\n",
      "    is_masked = mask_ws.isMasked(iws) or mask_ws.readY(iws)[0] > 0.5\n",
      "    if is_masked:\n",
      "        counts += 1\n",
      "print (counts)"
     ],
     "language": "python",
     "metadata": {},
     "outputs": [
      {
       "output_type": "stream",
       "stream": "stdout",
       "text": [
        "0\n"
       ]
      }
     ],
     "prompt_number": 16
    },
    {
     "cell_type": "code",
     "collapsed": false,
     "input": [
      "west_mask_ws = mtd['mask_vulcan_diamond_west_1fit_copy']\n",
      "print (west_mask_ws.getNumberMasked())\n",
      "east_mask_ws = mtd['mask_vulcan_diamond_east_1fit']\n",
      "print (east_mask_ws.getNumberMasked())\n",
      "highangle_mask_ws = mtd['mask_vulcan_diamond_high_angle_1fit']\n",
      "print (highangle_mask_ws.getNumberMasked())"
     ],
     "language": "python",
     "metadata": {},
     "outputs": [
      {
       "output_type": "stream",
       "stream": "stdout",
       "text": [
        "0\n",
        "0"
       ]
      },
      {
       "output_type": "stream",
       "stream": "stdout",
       "text": [
        "\n",
        "1429"
       ]
      },
      {
       "output_type": "stream",
       "stream": "stdout",
       "text": [
        "\n"
       ]
      }
     ],
     "prompt_number": 19
    },
    {
     "cell_type": "code",
     "collapsed": false,
     "input": [
      "west_2fit_mask_ws = mtd['mask_vulcan_diamond_west_2fit_copy']\n",
      "print (west_2fit_mask_ws.getNumberMasked())\n",
      "east_2fit_mask_ws = mtd['mask_vulcan_diamond_east_2fit']\n",
      "print (east_2fit_mask_ws.getNumberMasked())\n",
      "highangle_2fit_mask_ws = mtd['mask_vulcan_diamond_high_angle_2fit']\n",
      "print (highangle_2fit_mask_ws.getNumberMasked())"
     ],
     "language": "python",
     "metadata": {},
     "outputs": [
      {
       "output_type": "stream",
       "stream": "stdout",
       "text": [
        "82\n",
        "11"
       ]
      },
      {
       "output_type": "stream",
       "stream": "stdout",
       "text": [
        "\n",
        "1779"
       ]
      },
      {
       "output_type": "stream",
       "stream": "stdout",
       "text": [
        "\n"
       ]
      }
     ],
     "prompt_number": 46
    },
    {
     "cell_type": "code",
     "collapsed": false,
     "input": [
      "# West bank\n",
      "counts = 0\n",
      "count_spec_list = list()\n",
      "for iws in range(0, 3234):\n",
      "    is_masked = west_2fit_mask_ws.readY(iws)[0] > 0.5  # useless: west_2fit_mask_ws.isMasked(iws) or \n",
      "    if is_masked:\n",
      "        counts += 1\n",
      "        count_spec_list.append((counts_ws.readY(0)[iws], iws))\n",
      "print (counts)\n",
      "count_spec_list.sort(reverse=True)"
     ],
     "language": "python",
     "metadata": {},
     "outputs": [
      {
       "output_type": "stream",
       "stream": "stdout",
       "text": [
        "82\n"
       ]
      }
     ],
     "prompt_number": 27
    },
    {
     "cell_type": "code",
     "collapsed": false,
     "input": [
      "print count_spec_list"
     ],
     "language": "python",
     "metadata": {},
     "outputs": [
      {
       "output_type": "stream",
       "stream": "stdout",
       "text": [
        "[(102381.0, 2142), (99294.0, 2148), (96347.0, 2146), (96287.0, 2143), (96170.0, 2144), (94008.0, 2145), (81970.0, 1105), (80786.0, 31), (72142.0, 1092), (70498.0, 1095), (67206.0, 1093), (64965.0, 3209), (64737.0, 3210), (64642.0, 3222), (63161.0, 1087), (62498.0, 3221), (60797.0, 1069), (60709.0, 3224), (60687.0, 3220), (60435.0, 1086), (59647.0, 2172), (59640.0, 1068), (59603.0, 3223), (59589.0, 2179), (59492.0, 3212), (58689.0, 3215), (58447.0, 2171), (58425.0, 3226), (58250.0, 3211), (57635.0, 1067), (57623.0, 2170), (57582.0, 3214), (57054.0, 1070), (57023.0, 30), (56136.0, 26), (55497.0, 2165), (55389.0, 3225), (55178.0, 1051), (54988.0, 1062), (54221.0, 28), (53998.0, 1065), (53876.0, 1050), (53529.0, 1064), (53505.0, 3216), (53313.0, 1052), (52661.0, 17), (52609.0, 24), (52237.0, 1061), (52089.0, 3217), (51766.0, 1066), (51660.0, 2180), (51509.0, 2173), (51246.0, 19), (51116.0, 1060), (50347.0, 2163), (49225.0, 2181), (48986.0, 2174), (48245.0, 15), (48060.0, 22), (47308.0, 16), (46848.0, 1076), (46594.0, 1058), (46172.0, 21), (46096.0, 3219), (45837.0, 3218), (45601.0, 20), (45380.0, 1059), (45203.0, 14), (45058.0, 1057), (43378.0, 2175), (43314.0, 3205), (42928.0, 2182), (42846.0, 3204), (42520.0, 1077), (41606.0, 2183), (41591.0, 2176), (41259.0, 2187), (39131.0, 2169), (38451.0, 2188), (36302.0, 2197), (33097.0, 2190), (33084.0, 2189)]\n"
       ]
      }
     ],
     "prompt_number": 28
    },
    {
     "cell_type": "code",
     "collapsed": false,
     "input": [
      "diamond_ws = mtd['vulcan_diamond']\n",
      "\n",
      "for index, tup in enumerate(count_spec_list):\n",
      "    count, iws = tup\n",
      "    # print (len(diamond_ws.readX(iws)[:-1]), len(diamond_ws.readY(iws)))\n",
      "    plt.plot(diamond_ws.readX(iws)[:-1], diamond_ws.readY(iws))\n",
      "    plt.xlabel('dSpacing')\n",
      "    plt.title('Workspace Index {0}  Counts = {1}'.format(iws, count))\n",
      "    \n",
      "    plt.savefig('ws_{0}'.format(iws))\n",
      "    plt.cla()\n",
      "    \n",
      "    if index > 10:\n",
      "        break"
     ],
     "language": "python",
     "metadata": {},
     "outputs": [
      {
       "metadata": {},
       "output_type": "display_data",
       "png": "[encoded data removed]",
       "text": [
        "<matplotlib.figure.Figure at 0x7fe7a7a9d6d0>"
       ]
      }
     ],
     "prompt_number": 44
    },
    {
     "cell_type": "code",
     "collapsed": false,
     "input": [
      "# East bank\n",
      "# West bank\n",
      "counts = 0\n",
      "count_spec_list = list()\n",
      "for iws in range(3234, 6468):\n",
      "    is_masked = east_2fit_mask_ws.readY(iws)[0] > 0.5  # useless: west_2fit_mask_ws.isMasked(iws) or \n",
      "    if is_masked:\n",
      "        counts += 1\n",
      "        count_spec_list.append((counts_ws.readY(0)[iws], iws))\n",
      "print (counts)\n",
      "count_spec_list.sort(reverse=True)\n",
      "\n",
      "diamond_ws = mtd['vulcan_diamond']\n",
      "\n",
      "for index, tup in enumerate(count_spec_list):\n",
      "    count, iws = tup\n",
      "    # print (len(diamond_ws.readX(iws)[:-1]), len(diamond_ws.readY(iws)))\n",
      "    plt.plot(diamond_ws.readX(iws)[:-1], diamond_ws.readY(iws))\n",
      "    plt.xlabel('dSpacing')\n",
      "    plt.title('Workspace Index {0}  Counts = {1}'.format(iws, count))\n",
      "    \n",
      "    plt.savefig('ws_east_{0}'.format(iws))\n",
      "    plt.cla()\n",
      "    \n",
      "    if index > 10:\n",
      "        break\n"
     ],
     "language": "python",
     "metadata": {},
     "outputs": [
      {
       "output_type": "stream",
       "stream": "stdout",
       "text": [
        "11\n"
       ]
      },
      {
       "metadata": {},
       "output_type": "display_data",
       "png": "[encoded data removed]",
       "text": [
        "<matplotlib.figure.Figure at 0x7fe7a8ee9450>"
       ]
      }
     ],
     "prompt_number": 47
    },
    {
     "cell_type": "code",
     "collapsed": false,
     "input": [
      "# all 10\n",
      "for index, tup in enumerate(count_spec_list):\n",
      "    count, iws = tup\n",
      "    # print (len(diamond_ws.readX(iws)[:-1]), len(diamond_ws.readY(iws)))\n",
      "    plt.plot(diamond_ws.readX(iws)[:-1], diamond_ws.readY(iws))\n",
      "    if index > 10:\n",
      "        break\n",
      "plt.xlabel('dSpacing')\n",
      "plt.title('Masked East Bank'.format(iws, count))    \n",
      "plt.savefig('ws_east_all'.format(iws))"
     ],
     "language": "python",
     "metadata": {},
     "outputs": [
      {
       "metadata": {},
       "output_type": "display_data",
       "png": "[encoded data removed]",
       "text": [
        "<matplotlib.figure.Figure at 0x7fe8906a8310>"
       ]
      }
     ],
     "prompt_number": 48
    },
    {
     "cell_type": "code",
     "collapsed": false,
     "input": [
      "# high angle\n",
      "counts = 0\n",
      "count_spec_list = list()\n",
      "for iws in range(6468, 24900):\n",
      "    is_masked = highangle_2fit_mask_ws.readY(iws)[0] > 0.5  # useless: west_2fit_mask_ws.isMasked(iws) or \n",
      "    if is_masked:\n",
      "        counts += 1\n",
      "        count_spec_list.append((counts_ws.readY(0)[iws], iws))\n",
      "print (counts)\n",
      "count_spec_list.sort(reverse=True)"
     ],
     "language": "python",
     "metadata": {},
     "outputs": [
      {
       "output_type": "stream",
       "stream": "stdout",
       "text": [
        "1779\n"
       ]
      }
     ],
     "prompt_number": 49
    },
    {
     "cell_type": "code",
     "collapsed": false,
     "input": [
      "zero_count_mask = 0\n",
      "ultra_low_count_mask = 0\n",
      "low_count_mask = 0\n",
      "\n",
      "ultra_low_list = list()\n",
      "low_list = list()\n",
      "\n",
      "for tup in count_spec_list:\n",
      "    count, wsindex = tup\n",
      "    if count == 0:\n",
      "        zero_count_mask += 1\n",
      "    elif count < 500:\n",
      "        ultra_low_count_mask += 1\n",
      "        ultra_low_list.append((count, wsindex))\n",
      "    else:\n",
      "        low_count_mask += 1\n",
      "        low_list.append((count, wsindex))\n",
      "print (zero_count_mask, ultra_low_count_mask, low_count_mask)\n"
     ],
     "language": "python",
     "metadata": {},
     "outputs": [
      {
       "output_type": "stream",
       "stream": "stdout",
       "text": [
        "(1214, 479, 86)\n"
       ]
      }
     ],
     "prompt_number": 53
    },
    {
     "cell_type": "code",
     "collapsed": false,
     "input": [
      "ultra_low_list.sort(reverse=True)\n",
      "low_list.sort(reverse=True)"
     ],
     "language": "python",
     "metadata": {},
     "outputs": [],
     "prompt_number": 55
    },
    {
     "cell_type": "code",
     "collapsed": false,
     "input": [
      "for index, tup in enumerate(ultra_low_list):\n",
      "    count, iws = tup\n",
      "    # print (len(diamond_ws.readX(iws)[:-1]), len(diamond_ws.readY(iws)))\n",
      "    plt.plot(diamond_ws.readX(iws)[:-1], diamond_ws.readY(iws))\n",
      "    if index > 10:\n",
      "        break\n",
      "plt.xlabel('dSpacing')\n",
      "plt.title('Masked High angle Bank with ultra low counts'.format(iws, count))    \n",
      "plt.savefig('highanglelow'.format(iws))"
     ],
     "language": "python",
     "metadata": {},
     "outputs": [
      {
       "metadata": {},
       "output_type": "display_data",
       "png": "[encoded data removed]",
       "text": [
        "<matplotlib.figure.Figure at 0x7fe7a6b9f990>"
       ]
      }
     ],
     "prompt_number": 56
    },
    {
     "cell_type": "code",
     "collapsed": false,
     "input": [
      "for index, tup in enumerate(low_list):\n",
      "    count, iws = tup\n",
      "    # print (len(diamond_ws.readX(iws)[:-1]), len(diamond_ws.readY(iws)))\n",
      "    plt.plot(diamond_ws.readX(iws)[:-1], diamond_ws.readY(iws))\n",
      "    if index > 10:\n",
      "        break\n",
      "plt.xlabel('dSpacing')\n",
      "plt.title('Masked High angle Bank with low counts'.format(iws, count))    \n",
      "plt.savefig('highanglelow'.format(iws))"
     ],
     "language": "python",
     "metadata": {},
     "outputs": [
      {
       "metadata": {},
       "output_type": "display_data",
       "png": "[encoded data removed]",
       "text": [
        "<matplotlib.figure.Figure at 0x7fe7a7ffd610>"
       ]
      }
     ],
     "prompt_number": 57
    },
    {
     "cell_type": "code",
     "collapsed": false,
     "input": [
      "print (low_list)"
     ],
     "language": "python",
     "metadata": {},
     "outputs": [
      {
       "output_type": "stream",
       "stream": "stdout",
       "text": [
        "[(38327.0, 24761), (37597.0, 24655), (36743.0, 24760), (36719.0, 24657), (35671.0, 24759), (34898.0, 24752), (34366.0, 24739), (34091.0, 24660), (33942.0, 24722), (33940.0, 24720), (33760.0, 24717), (33687.0, 24712), (33660.0, 24724), (33621.0, 24680), (33612.0, 24715), (33601.0, 24721), (33597.0, 24711), (33573.0, 24716), (33558.0, 24733), (33539.0, 24664), (33532.0, 24662), (33513.0, 24705), (33509.0, 24708), (33437.0, 24731), (33371.0, 24713), (33182.0, 24683), (33123.0, 24691), (33086.0, 24685), (33004.0, 24700), (32995.0, 24687), (32965.0, 24688), (32795.0, 24692), (32693.0, 24689), (32671.0, 24686), (32488.0, 24726), (32315.0, 16715), (31780.0, 24730), (31504.0, 24729), (27949.0, 24444), (27946.0, 24445), (27092.0, 24443), (26970.0, 24442), (26379.0, 24441), (26024.0, 24440), (25813.0, 24439), (25671.0, 24438), (25613.0, 24437), (25121.0, 24436), (25066.0, 24435), (25000.0, 24407), (24851.0, 24406), (24687.0, 24434), (24619.0, 24431), (24602.0, 24433), (24369.0, 24410), (24165.0, 24432), (24165.0, 24424), (24158.0, 24426), (24101.0, 24425), (23999.0, 24428), (23945.0, 24427), (23879.0, 24423), (23810.0, 24429), (23685.0, 24422), (23639.0, 24421), (20229.0, 24654), (19366.0, 24399), (10370.0, 16716), (6608.0, 20555), (6302.0, 16714), (4277.0, 24398), (3956.0, 24653), (3834.0, 20554), (3748.0, 20556), (1225.0, 16697), (1156.0, 20553), (951.0, 24887), (824.0, 12364), (792.0, 17227), (693.0, 8503), (671.0, 19766), (623.0, 20790), (608.0, 16457), (587.0, 16203), (564.0, 8247), (506.0, 9293)]\n"
       ]
      }
     ],
     "prompt_number": 58
    },
    {
     "cell_type": "code",
     "collapsed": false,
     "input": [
      "print (counts_ws.readY(0)[15555])"
     ],
     "language": "python",
     "metadata": {},
     "outputs": [
      {
       "output_type": "stream",
       "stream": "stdout",
       "text": [
        "70255.0\n"
       ]
      }
     ],
     "prompt_number": 60
    },
    {
     "cell_type": "code",
     "collapsed": false,
     "input": [
      "vec_counts = counts_ws.readY(0)\n",
      "all50000 = numpy.where(vec_counts > 50000)\n",
      "high50000 = all50000[all50000 > 6468]\n",
      "high50000 = all50000[numpy.where(all50000 > 24900)]"
     ],
     "language": "python",
     "metadata": {},
     "outputs": [
      {
       "ename": "IndexError",
       "evalue": "tuple index out of range",
       "output_type": "pyerr",
       "traceback": [
        "\u001b[0;31m---------------------------------------------------------------------------\u001b[0m\n\u001b[0;31mIndexError\u001b[0m                                Traceback (most recent call last)",
        "\u001b[0;32m<ipython-input-66-6baedf888032>\u001b[0m in \u001b[0;36m<module>\u001b[0;34m()\u001b[0m\n\u001b[1;32m      1\u001b[0m \u001b[0mvec_counts\u001b[0m \u001b[0;34m=\u001b[0m \u001b[0mcounts_ws\u001b[0m\u001b[0;34m.\u001b[0m\u001b[0mreadY\u001b[0m\u001b[0;34m(\u001b[0m\u001b[0;36m0\u001b[0m\u001b[0;34m)\u001b[0m\u001b[0;34m\u001b[0m\u001b[0m\n\u001b[1;32m      2\u001b[0m \u001b[0mall50000\u001b[0m \u001b[0;34m=\u001b[0m \u001b[0mnumpy\u001b[0m\u001b[0;34m.\u001b[0m\u001b[0mwhere\u001b[0m\u001b[0;34m(\u001b[0m\u001b[0mvec_counts\u001b[0m \u001b[0;34m>\u001b[0m \u001b[0;36m50000\u001b[0m\u001b[0;34m)\u001b[0m\u001b[0;34m\u001b[0m\u001b[0m\n\u001b[0;32m----> 3\u001b[0;31m \u001b[0mhigh50000\u001b[0m \u001b[0;34m=\u001b[0m \u001b[0mall50000\u001b[0m\u001b[0;34m[\u001b[0m\u001b[0mall50000\u001b[0m \u001b[0;34m>\u001b[0m \u001b[0;36m6468\u001b[0m\u001b[0;34m]\u001b[0m\u001b[0;34m\u001b[0m\u001b[0m\n\u001b[0m\u001b[1;32m      4\u001b[0m \u001b[0mhigh50000\u001b[0m \u001b[0;34m=\u001b[0m \u001b[0mall50000\u001b[0m\u001b[0;34m[\u001b[0m\u001b[0mnumpy\u001b[0m\u001b[0;34m.\u001b[0m\u001b[0mwhere\u001b[0m\u001b[0;34m(\u001b[0m\u001b[0mall50000\u001b[0m \u001b[0;34m>\u001b[0m \u001b[0;36m24900\u001b[0m\u001b[0;34m)\u001b[0m\u001b[0;34m]\u001b[0m\u001b[0;34m\u001b[0m\u001b[0m\n",
        "\u001b[0;31mIndexError\u001b[0m: tuple index out of range"
       ]
      }
     ],
     "prompt_number": 66
    },
    {
     "cell_type": "code",
     "collapsed": false,
     "input": [
      "high50000"
     ],
     "language": "python",
     "metadata": {},
     "outputs": [
      {
       "metadata": {},
       "output_type": "pyout",
       "prompt_number": 63,
       "text": [
        "True"
       ]
      }
     ],
     "prompt_number": 63
    }
   ],
   "metadata": {}
  }
 ]
}